{
 "cells": [
  {
   "cell_type": "code",
   "execution_count": null,
   "metadata": {},
   "outputs": [],
   "source": [
    "# demographics table\n",
    "# variable +/- 95% CI | range | distribution (normal, skewed)\n",
    "# -----------------------------------------------------------\n",
    "# [anthropometrics]\n",
    "# age\n",
    "# sex (M/F)\n",
    "# height\n",
    "# height_z\n",
    "# weight\n",
    "# weight_z\n",
    "# bmi\n",
    "# bmi_z\n",
    "# tanner\n",
    "# [vitals]\n",
    "# hr\n",
    "# sbp\n",
    "# dbp\n",
    "# map\n",
    "# rr\n",
    "# spo2\n",
    "# [bloods]\n",
    "# glucose\n",
    "# insulin\n",
    "# homa_ir\n",
    "# cholesterol\n",
    "# hdl\n",
    "# ldl\n",
    "# triglycerides\n",
    "# cbc?\n",
    "\n",
    "# graph for each variable for visulaization of distribution... histo??\n",
    "\n",
    "# graph of variable vs homa_ir (or even another variable) with a regression"
   ]
  },
  {
   "cell_type": "code",
   "execution_count": 4,
   "metadata": {},
   "outputs": [],
   "source": [
    "import plotly.graph_objects as go\n",
    "import pandas as pd"
   ]
  },
  {
   "cell_type": "code",
   "execution_count": 24,
   "metadata": {},
   "outputs": [],
   "source": [
    "from dash_table import DataTable"
   ]
  },
  {
   "cell_type": "code",
   "execution_count": 27,
   "metadata": {},
   "outputs": [],
   "source": [
    "df = pd.read_csv('https://raw.githubusercontent.com/plotly/datasets/master/2014_usa_states.csv')"
   ]
  },
  {
   "cell_type": "code",
   "execution_count": 28,
   "metadata": {},
   "outputs": [],
   "source": [
    "headerColor = 'grey'\n",
    "rowEvenColor = 'lightgrey'\n",
    "rowOddColor = 'white'\n",
    "\n",
    "fig = go.Figure(\n",
    "    data=[\n",
    "        go.Table(\n",
    "            header=dict(\n",
    "                values=[f\"<b>{col}</b>\" for col in df.columns],\n",
    "                line_color='darkslategray',\n",
    "                fill_color=headerColor,\n",
    "                align=['left','center'],\n",
    "                font=dict(\n",
    "                    color='white', \n",
    "                    size=12\n",
    "                )\n",
    "            ),\n",
    "            cells=dict(\n",
    "                values=[df.Rank, df.State, df.Postal, df.Population],\n",
    "                line_color='darkslategray',\n",
    "\n",
    "                # 2-D list of colors for alternating rows\n",
    "                fill_color = [[rowOddColor, rowEvenColor]*int(len(df)/2)],\n",
    "                align = ['left', 'center'],\n",
    "                font = dict(\n",
    "                    color = 'darkslategray', \n",
    "                    size = 11\n",
    "                    )\n",
    "                )\n",
    "            )\n",
    "        ]\n",
    "    )"
   ]
  },
  {
   "cell_type": "code",
   "execution_count": null,
   "metadata": {},
   "outputs": [],
   "source": [
    "# create demographics table\n",
    "# https://dash.plotly.com/datatable/reference\n",
    "\n",
    "tbl = DataTable(\n",
    "    id='demographics-table',\n",
    "    columns=[\n",
    "        {\"name\": i, \"id\": i, \"deletable\": False, \"selectable\": True} for i in df.columns\n",
    "    ],\n",
    "    data=df.to_dict('records'),\n",
    "    editable=False,\n",
    "    filter_action=\"native\",\n",
    "    sort_action=\"native\",\n",
    "    sort_mode=\"multi\",\n",
    "    column_selectable=\"single\",\n",
    "    column_deletable=False,\n",
    "    row_selectable=\"multi\",\n",
    "    row_deletable=False,\n",
    "    persistence=True,\n",
    "    persistence_type='local',\n",
    "    export_format='csv',\n",
    "    export_headers='names'\n",
    ")"
   ]
  },
  {
   "cell_type": "code",
   "execution_count": null,
   "metadata": {},
   "outputs": [],
   "source": [
    "# histogram\n",
    "# https://plotly.com/python/histograms/#overlaid-histogram\n",
    "\n",
    "# todo: set bins for age(n=7), sex(n=2), tanner(n=3); all others can autobin\n",
    "# todo: set color\n",
    "# todo: interactivity with table?? e.g. selection of column changes this graph to that column??\n",
    "histogram = go.Figure(\n",
    "    data=[\n",
    "        go.Histogram(\n",
    "            x=x_data\n",
    "        )\n",
    "    ]\n",
    "\n",
    ")"
   ]
  },
  {
   "cell_type": "code",
   "execution_count": null,
   "metadata": {},
   "outputs": [],
   "source": [
    "# regression graph\n",
    "\n",
    "# todo: make scatter\n",
    "# todo: calculate regression\n",
    "# todo: add trace of regression line"
   ]
  }
 ],
 "metadata": {
  "kernelspec": {
   "display_name": "Python 3",
   "language": "python",
   "name": "python3"
  },
  "language_info": {
   "codemirror_mode": {
    "name": "ipython",
    "version": 3
   },
   "file_extension": ".py",
   "mimetype": "text/x-python",
   "name": "python",
   "nbconvert_exporter": "python",
   "pygments_lexer": "ipython3",
   "version": "3.7.4"
  }
 },
 "nbformat": 4,
 "nbformat_minor": 2
}
